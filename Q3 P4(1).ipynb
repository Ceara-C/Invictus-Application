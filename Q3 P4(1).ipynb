{
 "cells": [
  {
   "cell_type": "code",
   "execution_count": 76,
   "id": "7daaa186-0b4a-4c27-b4d4-6528e468c069",
   "metadata": {},
   "outputs": [],
   "source": [
    "import pandas as pd\n",
    "import requests"
   ]
  },
  {
   "cell_type": "code",
   "execution_count": 77,
   "id": "97c0cb7d-0df9-4180-b388-5b0b4ed51e35",
   "metadata": {},
   "outputs": [],
   "source": [
    "historicalBTC = requests.get('https://ftx.com/api/markets/BTC/USD/candles?resolution=300&start_time=1593561600&end_time=1625097600').json()"
   ]
  },
  {
   "cell_type": "code",
   "execution_count": 78,
   "id": "a7232679-ec48-4c14-aaf4-53e569504e01",
   "metadata": {},
   "outputs": [],
   "source": [
    "historicalETH = requests.get('https://ftx.com/api/markets/ETH/USD/candles?resolution=300&start_time=1593561600&end_time=1625097600').json()"
   ]
  },
  {
   "cell_type": "code",
   "execution_count": 79,
   "id": "9e18190b-ef24-44b2-be86-81535e40c38d",
   "metadata": {},
   "outputs": [],
   "source": [
    "historicalBTC = pd.DataFrame(historicalBTC['result'])"
   ]
  },
  {
   "cell_type": "code",
   "execution_count": 80,
   "id": "9c02916d-6177-4c57-bca6-c2e36a474aa5",
   "metadata": {},
   "outputs": [],
   "source": [
    "historicalETH = pd.DataFrame(historicalETH['result'])"
   ]
  },
  {
   "cell_type": "markdown",
   "id": "5ff64fcc-59a8-4ba5-91a4-981950cee92b",
   "metadata": {},
   "source": [
    "Import historical ETH and BTC data from FTX exchange over 1 year from 1 July 2020 to 1 July 2020 in OHLCV 5 minute form and create a dataframe with that data "
   ]
  },
  {
   "cell_type": "code",
   "execution_count": null,
   "id": "4e6889ed-3887-4401-8878-beb4ee9af526",
   "metadata": {},
   "outputs": [],
   "source": []
  },
  {
   "cell_type": "code",
   "execution_count": 81,
   "id": "bffab411-be3e-4469-908a-21d1c7e361b5",
   "metadata": {},
   "outputs": [],
   "source": [
    "BTCperp = requests.get('https://ftx.com/api/markets/BTC-PERP/candles?resolution=300&start_time=1593561600&end_time=1625097600').json()"
   ]
  },
  {
   "cell_type": "code",
   "execution_count": 82,
   "id": "c58704b2-f568-4917-b974-0db016088339",
   "metadata": {},
   "outputs": [],
   "source": [
    "BTCperp = pd.DataFrame(BTCperp['result'])"
   ]
  },
  {
   "cell_type": "markdown",
   "id": "086ed1fd-81fc-42b4-9ae0-b57f9175fd5c",
   "metadata": {},
   "source": []
  },
  {
   "cell_type": "markdown",
   "id": "f0d0f8d7-41cf-4468-baae-27c949e7ddd9",
   "metadata": {},
   "source": [
    "Import perpetual future BTC data from FTX exchange over 1 year from 1 July 2020 to 1 July 2020 in OHLCV 5 minute form and create a dataframe with that data "
   ]
  },
  {
   "cell_type": "code",
   "execution_count": 83,
   "id": "93cf05e4-b2b6-49f5-8228-27030b9aa83a",
   "metadata": {},
   "outputs": [],
   "source": [
    "ETHperp = requests.get('https://ftx.com/api/markets/ETH-PERP/candles?resolution=300&start_time=1593561600&end_time=1625097600').json()"
   ]
  },
  {
   "cell_type": "code",
   "execution_count": 84,
   "id": "b988e88a-44db-4be0-a4c1-4644685f88d9",
   "metadata": {},
   "outputs": [],
   "source": [
    "ETHperp = pd.DataFrame(ETHperp['result'])"
   ]
  },
  {
   "cell_type": "markdown",
   "id": "7e21697a-7e04-42c9-ba44-803f2ad3413b",
   "metadata": {},
   "source": [
    "Import perpetual future ETH data from FTX exchange over 1 year from 1 July 2020 to 1 July 2020 in OHLCV 5 minute form and create a dataframe with that data "
   ]
  },
  {
   "cell_type": "code",
   "execution_count": null,
   "id": "e5c57a87-53ad-47f7-b6ec-5e3a8e589988",
   "metadata": {},
   "outputs": [],
   "source": []
  },
  {
   "cell_type": "code",
   "execution_count": 85,
   "id": "33365e3c-de51-4133-b6ad-6fad77a68df9",
   "metadata": {},
   "outputs": [],
   "source": [
    "historicalBTC['return'] = historicalBTC['close']- historicalBTC['open']"
   ]
  },
  {
   "cell_type": "code",
   "execution_count": 86,
   "id": "3ecf77d7-fc12-4acd-adde-c7b49fdde4ca",
   "metadata": {},
   "outputs": [],
   "source": [
    "historicalETH['return'] = historicalETH['close']- historicalETH['open']"
   ]
  },
  {
   "cell_type": "code",
   "execution_count": 87,
   "id": "b78984d2-3ab3-4eee-9942-68f95c490fa1",
   "metadata": {},
   "outputs": [],
   "source": [
    "BTCperp['return'] = BTCperp['close']- BTCperp['open']"
   ]
  },
  {
   "cell_type": "code",
   "execution_count": 88,
   "id": "436eab71-e2d1-477b-a814-e42bda2c49d3",
   "metadata": {},
   "outputs": [],
   "source": [
    "ETHperp['return'] = ETHperp['close']- ETHperp['open']"
   ]
  },
  {
   "cell_type": "markdown",
   "id": "dd717e44-6f5e-456c-aaac-78f4a3b1efbe",
   "metadata": {},
   "source": [
    "Create a return column in each variable calculating the difference between opening and closing values per 5 minutes "
   ]
  },
  {
   "cell_type": "code",
   "execution_count": 89,
   "id": "51b04f02-e6f4-44d3-a9dc-00d9a5c6ec8f",
   "metadata": {},
   "outputs": [],
   "source": [
    "BTCperp['Diff']=historicalBTC['return']-BTCperp['return']"
   ]
  },
  {
   "cell_type": "code",
   "execution_count": 90,
   "id": "69b3ed28-4bae-478b-88fc-e560776675f6",
   "metadata": {},
   "outputs": [],
   "source": [
    "ETHperp['Diff']=historicalETH['return']-ETHperp['return']"
   ]
  },
  {
   "cell_type": "markdown",
   "id": "a3f811e5-dbbe-4b3b-8ddb-0537df27efc1",
   "metadata": {},
   "source": [
    "Calculate the difference between the return of the historical and perpetual future data for bothj BTC and ETH"
   ]
  },
  {
   "cell_type": "code",
   "execution_count": 91,
   "id": "cfb12f32-c6cf-4ae5-b5ca-0f50e5bc0367",
   "metadata": {},
   "outputs": [],
   "source": [
    "trackingerror_BTC= BTCperp['Diff'].std()"
   ]
  },
  {
   "cell_type": "code",
   "execution_count": 92,
   "id": "3493c6f5-31a2-4723-a4ad-7b50e32886ec",
   "metadata": {},
   "outputs": [
    {
     "name": "stdout",
     "output_type": "stream",
     "text": [
      "7.6378436461450185\n"
     ]
    }
   ],
   "source": [
    "print(trackingerror_BTC)"
   ]
  },
  {
   "cell_type": "code",
   "execution_count": 93,
   "id": "b6eb2234-bf4f-4fa8-83f9-63a63f8a9ed8",
   "metadata": {},
   "outputs": [],
   "source": [
    "trackingerror_ETH= ETHperp['Diff'].std()"
   ]
  },
  {
   "cell_type": "code",
   "execution_count": 94,
   "id": "39eafbb0-2d6b-4d80-b113-0993f39bf2dd",
   "metadata": {},
   "outputs": [
    {
     "name": "stdout",
     "output_type": "stream",
     "text": [
      "0.46276358965105785\n"
     ]
    }
   ],
   "source": [
    "print(trackingerror_ETH)"
   ]
  },
  {
   "cell_type": "markdown",
   "id": "e25ad7e8-f3b0-403a-a770-bd275835950e",
   "metadata": {},
   "source": [
    "Calculate the tracking error as the standard deviation of the previously calculated difference "
   ]
  },
  {
   "cell_type": "markdown",
   "id": "0c1c9b8c-60bc-4401-a438-cf22bc2c57a0",
   "metadata": {},
   "source": [
    "7 DAY ROLLING AVERAGE:"
   ]
  },
  {
   "cell_type": "code",
   "execution_count": 95,
   "id": "11e201b3-f139-4de0-9a45-1630a078551e",
   "metadata": {},
   "outputs": [],
   "source": [
    "historicalBTC7 = requests.get('https://ftx.com/api/markets/BTC/USD/candles?resolution=86400&start_time=1593561600&end_time=1625097600').json()"
   ]
  },
  {
   "cell_type": "code",
   "execution_count": 96,
   "id": "d058c376-4572-478f-a64a-875784bddbd5",
   "metadata": {},
   "outputs": [],
   "source": [
    "historicalETH7 = requests.get('https://ftx.com/api/markets/ETH/USD/candles?resolution=86400&start_time=1593561600&end_time=1625097600').json()"
   ]
  },
  {
   "cell_type": "code",
   "execution_count": 97,
   "id": "27943b5d-0ef9-4a25-b5ad-cc5835d13c8b",
   "metadata": {},
   "outputs": [],
   "source": [
    "historicalBTC7 = pd.DataFrame(historicalBTC7['result'])"
   ]
  },
  {
   "cell_type": "code",
   "execution_count": 98,
   "id": "4b1bff6d-bcd6-4ead-b582-43e02b5102d2",
   "metadata": {},
   "outputs": [],
   "source": [
    "historicalETH7 = pd.DataFrame(historicalETH7['result'])"
   ]
  },
  {
   "cell_type": "markdown",
   "id": "7d7449c8-c829-4436-b7bf-283b16f7e193",
   "metadata": {},
   "source": [
    "Download daily data from FTX exchange for historical spot prices for ETH and BTC and insert this data into a data frame "
   ]
  },
  {
   "cell_type": "code",
   "execution_count": null,
   "id": "6f288a12-987e-4ec8-b4ab-d80f08c123e0",
   "metadata": {},
   "outputs": [],
   "source": []
  },
  {
   "cell_type": "code",
   "execution_count": 99,
   "id": "58aa5167-0545-45ba-b47e-250746582197",
   "metadata": {},
   "outputs": [],
   "source": [
    "BTCperp7 = requests.get('https://ftx.com/api/markets/BTC-PERP/candles?resolution=86400&start_time=1593561600&end_time=1625097600').json()"
   ]
  },
  {
   "cell_type": "code",
   "execution_count": 100,
   "id": "3c04b1e9-42d0-4d81-bc72-4d1d109a9c30",
   "metadata": {},
   "outputs": [],
   "source": [
    "BTCperp7 = pd.DataFrame(BTCperp7['result'])"
   ]
  },
  {
   "cell_type": "markdown",
   "id": "6d17202f-b20b-4b87-9055-abd49530fc45",
   "metadata": {},
   "source": [
    "Repeat the above process for the perptual future BTC "
   ]
  },
  {
   "cell_type": "code",
   "execution_count": 101,
   "id": "8b55765a-7089-499d-b0ad-1dbf540f8729",
   "metadata": {},
   "outputs": [],
   "source": [
    "ETHperp7 = requests.get('https://ftx.com/api/markets/ETH-PERP/candles?resolution=86400&start_time=1593561600&end_time=1625097600').json()"
   ]
  },
  {
   "cell_type": "code",
   "execution_count": 102,
   "id": "b0c6635a-781a-41c9-8048-1f04794aa41c",
   "metadata": {},
   "outputs": [],
   "source": [
    "ETHperp7 = pd.DataFrame(ETHperp7['result'])"
   ]
  },
  {
   "cell_type": "markdown",
   "id": "65900d9f-16c5-42a2-8f12-afca8eb35454",
   "metadata": {},
   "source": [
    "Repeat the above process for the perpetual future ETH"
   ]
  },
  {
   "cell_type": "code",
   "execution_count": 103,
   "id": "9ef822d1-9411-4d26-9300-8dd9c15a16cc",
   "metadata": {},
   "outputs": [],
   "source": [
    "historicalBTC7['return'] = historicalBTC7['close']- historicalBTC7['open']"
   ]
  },
  {
   "cell_type": "code",
   "execution_count": 104,
   "id": "04fbf950-91c2-437c-b53e-ed5ae0ae49ef",
   "metadata": {},
   "outputs": [],
   "source": [
    "historicalETH7['return'] = historicalETH7['close']- historicalETH7['open']"
   ]
  },
  {
   "cell_type": "code",
   "execution_count": 105,
   "id": "20e33466-d6d0-4b0f-8eca-4ac27832ac9b",
   "metadata": {},
   "outputs": [],
   "source": [
    "BTCperp7['return'] = BTCperp7['close']- BTCperp7['open']"
   ]
  },
  {
   "cell_type": "code",
   "execution_count": 106,
   "id": "d5b07cd9-2b51-4818-b1e3-73986c4c9325",
   "metadata": {},
   "outputs": [],
   "source": [
    "ETHperp7['return'] = ETHperp7['close']- ETHperp7['open']"
   ]
  },
  {
   "cell_type": "markdown",
   "id": "f9a1eb18-cef7-4618-837f-1d17b5b469fc",
   "metadata": {},
   "source": [
    "Calculate the returns for each of the four variables by calculating the differences between the opening and closing values each day "
   ]
  },
  {
   "cell_type": "code",
   "execution_count": 107,
   "id": "0fdc5f0a-45f4-4ba2-827e-fd51f87814c1",
   "metadata": {},
   "outputs": [],
   "source": [
    "BTCperp7['Diff']=historicalBTC7['return']-BTCperp7['return']"
   ]
  },
  {
   "cell_type": "code",
   "execution_count": 108,
   "id": "d31e6d00-4722-43de-8b13-da604c6ae4b0",
   "metadata": {},
   "outputs": [],
   "source": [
    "ETHperp7['Diff']=historicalETH7['return']-ETHperp7['return']"
   ]
  },
  {
   "cell_type": "markdown",
   "id": "74c1eab9-aeeb-4724-8ead-e7b42cc68c45",
   "metadata": {},
   "source": [
    "Calculate the difference in returns between the historical data and the perpetual future data for both ETH and BTC"
   ]
  },
  {
   "cell_type": "code",
   "execution_count": 109,
   "id": "a4dcfc4b-54b2-4e0f-9c28-812f0a78f328",
   "metadata": {},
   "outputs": [
    {
     "data": {
      "text/plain": [
       "0           NaN\n",
       "1           NaN\n",
       "2           NaN\n",
       "3           NaN\n",
       "4           NaN\n",
       "         ...   \n",
       "361    0.508967\n",
       "362    0.494734\n",
       "363    0.545981\n",
       "364    0.636209\n",
       "365    0.648074\n",
       "Name: Diff, Length: 366, dtype: float64"
      ]
     },
     "execution_count": 109,
     "metadata": {},
     "output_type": "execute_result"
    }
   ],
   "source": [
    "ETHperp7['Diff'].rolling(7).std()"
   ]
  },
  {
   "cell_type": "code",
   "execution_count": 110,
   "id": "e6ef21ee-6e57-4f39-b641-2d6a8d4da361",
   "metadata": {},
   "outputs": [
    {
     "data": {
      "text/plain": [
       "0            NaN\n",
       "1            NaN\n",
       "2            NaN\n",
       "3            NaN\n",
       "4            NaN\n",
       "         ...    \n",
       "361     7.678045\n",
       "362     8.858679\n",
       "363    13.171036\n",
       "364    16.421531\n",
       "365    16.450503\n",
       "Name: Diff, Length: 366, dtype: float64"
      ]
     },
     "execution_count": 110,
     "metadata": {},
     "output_type": "execute_result"
    }
   ],
   "source": [
    "BTCperp7['Diff'].rolling(7).std()"
   ]
  },
  {
   "cell_type": "markdown",
   "id": "9cc5e844-2df4-45bb-a6fb-c46735a124f5",
   "metadata": {},
   "source": [
    "Calculate the seven day rolling tracking error as the rolling standard deviation between the differences calculated above "
   ]
  },
  {
   "cell_type": "code",
   "execution_count": null,
   "id": "bac7a2c3-1dd0-4ebd-ad22-740fcc09da85",
   "metadata": {},
   "outputs": [],
   "source": []
  },
  {
   "cell_type": "code",
   "execution_count": null,
   "id": "b1b20f33-ffcd-4b35-8551-33bb3c18539d",
   "metadata": {},
   "outputs": [],
   "source": []
  }
 ],
 "metadata": {
  "kernelspec": {
   "display_name": "Python 3",
   "language": "python",
   "name": "python3"
  },
  "language_info": {
   "codemirror_mode": {
    "name": "ipython",
    "version": 3
   },
   "file_extension": ".py",
   "mimetype": "text/x-python",
   "name": "python",
   "nbconvert_exporter": "python",
   "pygments_lexer": "ipython3",
   "version": "3.8.8"
  }
 },
 "nbformat": 4,
 "nbformat_minor": 5
}
