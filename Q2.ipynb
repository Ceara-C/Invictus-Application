{
 "cells": [
  {
   "cell_type": "code",
   "execution_count": 219,
   "id": "50438eac-b612-46e5-8bbf-b9bf6178c904",
   "metadata": {},
   "outputs": [
    {
     "name": "stdout",
     "output_type": "stream",
     "text": [
      "Requirement already satisfied: xlrd in /Users/cearacommins/opt/anaconda3/lib/python3.8/site-packages (2.0.1)\n",
      "Note: you may need to restart the kernel to use updated packages.\n"
     ]
    }
   ],
   "source": [
    "pip install xlrd"
   ]
  },
  {
   "cell_type": "markdown",
   "id": "8c6f7822-c9f9-4f35-8022-76b84dae2bf3",
   "metadata": {},
   "source": [
    "Install excel library to read excel "
   ]
  },
  {
   "cell_type": "code",
   "execution_count": 220,
   "id": "3ba6c644-aecc-4dbd-bbc0-3dbf82567e2f",
   "metadata": {},
   "outputs": [],
   "source": [
    "import pandas as pd"
   ]
  },
  {
   "cell_type": "markdown",
   "id": "15df482f-5af1-4434-b115-52a5562a1560",
   "metadata": {},
   "source": [
    "Import pandas (data frame library) as pd"
   ]
  },
  {
   "cell_type": "code",
   "execution_count": 221,
   "id": "b722993f-4496-4bac-a8dc-deca22dad224",
   "metadata": {},
   "outputs": [
    {
     "ename": "FileNotFoundError",
     "evalue": "[Errno 2] No such file or directory: 'Old Allocations.xlsx'",
     "output_type": "error",
     "traceback": [
      "\u001b[0;31m---------------------------------------------------------------------------\u001b[0m",
      "\u001b[0;31mFileNotFoundError\u001b[0m                         Traceback (most recent call last)",
      "\u001b[0;32m<ipython-input-221-92e3235fca9f>\u001b[0m in \u001b[0;36m<module>\u001b[0;34m\u001b[0m\n\u001b[0;32m----> 1\u001b[0;31m \u001b[0mold_allocations\u001b[0m \u001b[0;34m=\u001b[0m \u001b[0mpd\u001b[0m\u001b[0;34m.\u001b[0m\u001b[0mread_excel\u001b[0m\u001b[0;34m(\u001b[0m\u001b[0;34m'Old Allocations.xlsx'\u001b[0m\u001b[0;34m)\u001b[0m\u001b[0;34m\u001b[0m\u001b[0;34m\u001b[0m\u001b[0m\n\u001b[0m",
      "\u001b[0;32m~/opt/anaconda3/lib/python3.8/site-packages/pandas/util/_decorators.py\u001b[0m in \u001b[0;36mwrapper\u001b[0;34m(*args, **kwargs)\u001b[0m\n\u001b[1;32m    297\u001b[0m                 )\n\u001b[1;32m    298\u001b[0m                 \u001b[0mwarnings\u001b[0m\u001b[0;34m.\u001b[0m\u001b[0mwarn\u001b[0m\u001b[0;34m(\u001b[0m\u001b[0mmsg\u001b[0m\u001b[0;34m,\u001b[0m \u001b[0mFutureWarning\u001b[0m\u001b[0;34m,\u001b[0m \u001b[0mstacklevel\u001b[0m\u001b[0;34m=\u001b[0m\u001b[0mstacklevel\u001b[0m\u001b[0;34m)\u001b[0m\u001b[0;34m\u001b[0m\u001b[0;34m\u001b[0m\u001b[0m\n\u001b[0;32m--> 299\u001b[0;31m             \u001b[0;32mreturn\u001b[0m \u001b[0mfunc\u001b[0m\u001b[0;34m(\u001b[0m\u001b[0;34m*\u001b[0m\u001b[0margs\u001b[0m\u001b[0;34m,\u001b[0m \u001b[0;34m**\u001b[0m\u001b[0mkwargs\u001b[0m\u001b[0;34m)\u001b[0m\u001b[0;34m\u001b[0m\u001b[0;34m\u001b[0m\u001b[0m\n\u001b[0m\u001b[1;32m    300\u001b[0m \u001b[0;34m\u001b[0m\u001b[0m\n\u001b[1;32m    301\u001b[0m         \u001b[0;32mreturn\u001b[0m \u001b[0mwrapper\u001b[0m\u001b[0;34m\u001b[0m\u001b[0;34m\u001b[0m\u001b[0m\n",
      "\u001b[0;32m~/opt/anaconda3/lib/python3.8/site-packages/pandas/io/excel/_base.py\u001b[0m in \u001b[0;36mread_excel\u001b[0;34m(io, sheet_name, header, names, index_col, usecols, squeeze, dtype, engine, converters, true_values, false_values, skiprows, nrows, na_values, keep_default_na, na_filter, verbose, parse_dates, date_parser, thousands, comment, skipfooter, convert_float, mangle_dupe_cols, storage_options)\u001b[0m\n\u001b[1;32m    334\u001b[0m     \u001b[0;32mif\u001b[0m \u001b[0;32mnot\u001b[0m \u001b[0misinstance\u001b[0m\u001b[0;34m(\u001b[0m\u001b[0mio\u001b[0m\u001b[0;34m,\u001b[0m \u001b[0mExcelFile\u001b[0m\u001b[0;34m)\u001b[0m\u001b[0;34m:\u001b[0m\u001b[0;34m\u001b[0m\u001b[0;34m\u001b[0m\u001b[0m\n\u001b[1;32m    335\u001b[0m         \u001b[0mshould_close\u001b[0m \u001b[0;34m=\u001b[0m \u001b[0;32mTrue\u001b[0m\u001b[0;34m\u001b[0m\u001b[0;34m\u001b[0m\u001b[0m\n\u001b[0;32m--> 336\u001b[0;31m         \u001b[0mio\u001b[0m \u001b[0;34m=\u001b[0m \u001b[0mExcelFile\u001b[0m\u001b[0;34m(\u001b[0m\u001b[0mio\u001b[0m\u001b[0;34m,\u001b[0m \u001b[0mstorage_options\u001b[0m\u001b[0;34m=\u001b[0m\u001b[0mstorage_options\u001b[0m\u001b[0;34m,\u001b[0m \u001b[0mengine\u001b[0m\u001b[0;34m=\u001b[0m\u001b[0mengine\u001b[0m\u001b[0;34m)\u001b[0m\u001b[0;34m\u001b[0m\u001b[0;34m\u001b[0m\u001b[0m\n\u001b[0m\u001b[1;32m    337\u001b[0m     \u001b[0;32melif\u001b[0m \u001b[0mengine\u001b[0m \u001b[0;32mand\u001b[0m \u001b[0mengine\u001b[0m \u001b[0;34m!=\u001b[0m \u001b[0mio\u001b[0m\u001b[0;34m.\u001b[0m\u001b[0mengine\u001b[0m\u001b[0;34m:\u001b[0m\u001b[0;34m\u001b[0m\u001b[0;34m\u001b[0m\u001b[0m\n\u001b[1;32m    338\u001b[0m         raise ValueError(\n",
      "\u001b[0;32m~/opt/anaconda3/lib/python3.8/site-packages/pandas/io/excel/_base.py\u001b[0m in \u001b[0;36m__init__\u001b[0;34m(self, path_or_buffer, engine, storage_options)\u001b[0m\n\u001b[1;32m   1069\u001b[0m                 \u001b[0mext\u001b[0m \u001b[0;34m=\u001b[0m \u001b[0;34m\"xls\"\u001b[0m\u001b[0;34m\u001b[0m\u001b[0;34m\u001b[0m\u001b[0m\n\u001b[1;32m   1070\u001b[0m             \u001b[0;32melse\u001b[0m\u001b[0;34m:\u001b[0m\u001b[0;34m\u001b[0m\u001b[0;34m\u001b[0m\u001b[0m\n\u001b[0;32m-> 1071\u001b[0;31m                 ext = inspect_excel_format(\n\u001b[0m\u001b[1;32m   1072\u001b[0m                     \u001b[0mcontent\u001b[0m\u001b[0;34m=\u001b[0m\u001b[0mpath_or_buffer\u001b[0m\u001b[0;34m,\u001b[0m \u001b[0mstorage_options\u001b[0m\u001b[0;34m=\u001b[0m\u001b[0mstorage_options\u001b[0m\u001b[0;34m\u001b[0m\u001b[0;34m\u001b[0m\u001b[0m\n\u001b[1;32m   1073\u001b[0m                 )\n",
      "\u001b[0;32m~/opt/anaconda3/lib/python3.8/site-packages/pandas/io/excel/_base.py\u001b[0m in \u001b[0;36minspect_excel_format\u001b[0;34m(path, content, storage_options)\u001b[0m\n\u001b[1;32m    947\u001b[0m     \u001b[0;32massert\u001b[0m \u001b[0mcontent_or_path\u001b[0m \u001b[0;32mis\u001b[0m \u001b[0;32mnot\u001b[0m \u001b[0;32mNone\u001b[0m\u001b[0;34m\u001b[0m\u001b[0;34m\u001b[0m\u001b[0m\n\u001b[1;32m    948\u001b[0m \u001b[0;34m\u001b[0m\u001b[0m\n\u001b[0;32m--> 949\u001b[0;31m     with get_handle(\n\u001b[0m\u001b[1;32m    950\u001b[0m         \u001b[0mcontent_or_path\u001b[0m\u001b[0;34m,\u001b[0m \u001b[0;34m\"rb\"\u001b[0m\u001b[0;34m,\u001b[0m \u001b[0mstorage_options\u001b[0m\u001b[0;34m=\u001b[0m\u001b[0mstorage_options\u001b[0m\u001b[0;34m,\u001b[0m \u001b[0mis_text\u001b[0m\u001b[0;34m=\u001b[0m\u001b[0;32mFalse\u001b[0m\u001b[0;34m\u001b[0m\u001b[0;34m\u001b[0m\u001b[0m\n\u001b[1;32m    951\u001b[0m     ) as handle:\n",
      "\u001b[0;32m~/opt/anaconda3/lib/python3.8/site-packages/pandas/io/common.py\u001b[0m in \u001b[0;36mget_handle\u001b[0;34m(path_or_buf, mode, encoding, compression, memory_map, is_text, errors, storage_options)\u001b[0m\n\u001b[1;32m    649\u001b[0m         \u001b[0;32melse\u001b[0m\u001b[0;34m:\u001b[0m\u001b[0;34m\u001b[0m\u001b[0;34m\u001b[0m\u001b[0m\n\u001b[1;32m    650\u001b[0m             \u001b[0;31m# Binary mode\u001b[0m\u001b[0;34m\u001b[0m\u001b[0;34m\u001b[0m\u001b[0;34m\u001b[0m\u001b[0m\n\u001b[0;32m--> 651\u001b[0;31m             \u001b[0mhandle\u001b[0m \u001b[0;34m=\u001b[0m \u001b[0mopen\u001b[0m\u001b[0;34m(\u001b[0m\u001b[0mhandle\u001b[0m\u001b[0;34m,\u001b[0m \u001b[0mioargs\u001b[0m\u001b[0;34m.\u001b[0m\u001b[0mmode\u001b[0m\u001b[0;34m)\u001b[0m\u001b[0;34m\u001b[0m\u001b[0;34m\u001b[0m\u001b[0m\n\u001b[0m\u001b[1;32m    652\u001b[0m         \u001b[0mhandles\u001b[0m\u001b[0;34m.\u001b[0m\u001b[0mappend\u001b[0m\u001b[0;34m(\u001b[0m\u001b[0mhandle\u001b[0m\u001b[0;34m)\u001b[0m\u001b[0;34m\u001b[0m\u001b[0;34m\u001b[0m\u001b[0m\n\u001b[1;32m    653\u001b[0m \u001b[0;34m\u001b[0m\u001b[0m\n",
      "\u001b[0;31mFileNotFoundError\u001b[0m: [Errno 2] No such file or directory: 'Old Allocations.xlsx'"
     ]
    }
   ],
   "source": [
    "old_allocations = pd.read_excel('Old Allocations.xlsx')"
   ]
  },
  {
   "cell_type": "code",
   "execution_count": null,
   "id": "44e14dd1-1b2d-4a19-bd69-3f696d3b09e6",
   "metadata": {},
   "outputs": [],
   "source": [
    "new_allocations = pd.read_excel('new_allocations.xlsx')"
   ]
  },
  {
   "cell_type": "markdown",
   "id": "f655b01c-5ff0-4aec-980c-4cc7f5a6cdaa",
   "metadata": {},
   "source": [
    "Import old allocations and new allocations from excel as variables 'old_allocations' and 'new_allocations'"
   ]
  },
  {
   "cell_type": "code",
   "execution_count": null,
   "id": "5e03fe03-dfdc-49b1-9351-f7b9f02788ee",
   "metadata": {},
   "outputs": [],
   "source": [
    "capital = 'Capital'\n",
    "total_capital = old_allocations[capital].sum()"
   ]
  },
  {
   "cell_type": "markdown",
   "id": "e4f89803-30a1-4571-a59e-f7af67d7d175",
   "metadata": {},
   "source": [
    "Create a variable called total capital which is the sum of each capital amount within the old allocations data "
   ]
  },
  {
   "cell_type": "code",
   "execution_count": null,
   "id": "ee32b632-33a5-4d86-9ff8-e3cffc906956",
   "metadata": {},
   "outputs": [],
   "source": [
    "new_allocations['New Capital'] = new_allocations['allocation_fraction']*total_capital"
   ]
  },
  {
   "cell_type": "markdown",
   "id": "efe2d5e2-c6ac-495d-8b41-9fb480870873",
   "metadata": {},
   "source": [
    "Create a column in the new_allocations data called 'New Capital' which is calculated using new allocation amounts multiplied by the total capital amount "
   ]
  },
  {
   "cell_type": "code",
   "execution_count": null,
   "id": "f012e006-cde9-4707-843e-67c4b02398e5",
   "metadata": {},
   "outputs": [],
   "source": [
    "new_allocations['Old Capital'] = old_allocations['Capital']"
   ]
  },
  {
   "cell_type": "markdown",
   "id": "13440b8f-a8dd-463d-8f48-43781a912df0",
   "metadata": {},
   "source": [
    "Insert the original capital amounts as a column into new_allocations variable as 'Old Capital'"
   ]
  },
  {
   "cell_type": "code",
   "execution_count": null,
   "id": "22296568-3d6a-4d23-9583-4c9c34371035",
   "metadata": {},
   "outputs": [],
   "source": [
    "new_allocations = new_allocations.fillna(0)"
   ]
  },
  {
   "cell_type": "markdown",
   "id": "78cd67f6-ff4f-4ca8-b5d7-d5a965011ab1",
   "metadata": {},
   "source": [
    "Fill the empty cells in the new_allocations variable with 0s "
   ]
  },
  {
   "cell_type": "code",
   "execution_count": null,
   "id": "ca8b9034-5b6c-43df-8294-fb8090577380",
   "metadata": {},
   "outputs": [],
   "source": [
    "new_allocations['Change in Capital'] = new_allocations['Old Capital']- new_allocations['New Capital']"
   ]
  },
  {
   "cell_type": "markdown",
   "id": "490ca7da-e0ca-42d2-b153-4d42fef4398e",
   "metadata": {},
   "source": [
    "Create a new column within the variable new_allocations called 'Change in Capital' that is calculated by calculating the difference between old and new capital amounts "
   ]
  },
  {
   "cell_type": "code",
   "execution_count": null,
   "id": "f6a5ad8d-93e1-4555-9e1a-77d602103b21",
   "metadata": {},
   "outputs": [],
   "source": [
    "changes_in_capital = new_allocations "
   ]
  },
  {
   "cell_type": "markdown",
   "id": "67c5f6c2-db30-4c5d-a0e0-ee0bfa457190",
   "metadata": {},
   "source": [
    "Create a new variable called changes in capital that is equal to the changed new_allocations variable "
   ]
  },
  {
   "cell_type": "code",
   "execution_count": 222,
   "id": "24e35f45-1a06-4c3a-bd89-b0f7f42ac61a",
   "metadata": {},
   "outputs": [
    {
     "ename": "KeyError",
     "evalue": "'[0] not found in axis'",
     "output_type": "error",
     "traceback": [
      "\u001b[0;31m---------------------------------------------------------------------------\u001b[0m",
      "\u001b[0;31mKeyError\u001b[0m                                  Traceback (most recent call last)",
      "\u001b[0;32m<ipython-input-222-adf2e1c8f317>\u001b[0m in \u001b[0;36m<module>\u001b[0;34m\u001b[0m\n\u001b[0;32m----> 1\u001b[0;31m \u001b[0mchanges_in_capital\u001b[0m \u001b[0;34m=\u001b[0m \u001b[0mchanges_in_capital\u001b[0m\u001b[0;34m.\u001b[0m\u001b[0mdrop\u001b[0m\u001b[0;34m(\u001b[0m\u001b[0;36m0\u001b[0m\u001b[0;34m,\u001b[0m\u001b[0maxis\u001b[0m\u001b[0;34m=\u001b[0m\u001b[0;36m0\u001b[0m\u001b[0;34m)\u001b[0m\u001b[0;34m\u001b[0m\u001b[0;34m\u001b[0m\u001b[0m\n\u001b[0m",
      "\u001b[0;32m~/opt/anaconda3/lib/python3.8/site-packages/pandas/core/frame.py\u001b[0m in \u001b[0;36mdrop\u001b[0;34m(self, labels, axis, index, columns, level, inplace, errors)\u001b[0m\n\u001b[1;32m   4306\u001b[0m                 \u001b[0mweight\u001b[0m  \u001b[0;36m1.0\u001b[0m     \u001b[0;36m0.8\u001b[0m\u001b[0;34m\u001b[0m\u001b[0;34m\u001b[0m\u001b[0m\n\u001b[1;32m   4307\u001b[0m         \"\"\"\n\u001b[0;32m-> 4308\u001b[0;31m         return super().drop(\n\u001b[0m\u001b[1;32m   4309\u001b[0m             \u001b[0mlabels\u001b[0m\u001b[0;34m=\u001b[0m\u001b[0mlabels\u001b[0m\u001b[0;34m,\u001b[0m\u001b[0;34m\u001b[0m\u001b[0;34m\u001b[0m\u001b[0m\n\u001b[1;32m   4310\u001b[0m             \u001b[0maxis\u001b[0m\u001b[0;34m=\u001b[0m\u001b[0maxis\u001b[0m\u001b[0;34m,\u001b[0m\u001b[0;34m\u001b[0m\u001b[0;34m\u001b[0m\u001b[0m\n",
      "\u001b[0;32m~/opt/anaconda3/lib/python3.8/site-packages/pandas/core/generic.py\u001b[0m in \u001b[0;36mdrop\u001b[0;34m(self, labels, axis, index, columns, level, inplace, errors)\u001b[0m\n\u001b[1;32m   4151\u001b[0m         \u001b[0;32mfor\u001b[0m \u001b[0maxis\u001b[0m\u001b[0;34m,\u001b[0m \u001b[0mlabels\u001b[0m \u001b[0;32min\u001b[0m \u001b[0maxes\u001b[0m\u001b[0;34m.\u001b[0m\u001b[0mitems\u001b[0m\u001b[0;34m(\u001b[0m\u001b[0;34m)\u001b[0m\u001b[0;34m:\u001b[0m\u001b[0;34m\u001b[0m\u001b[0;34m\u001b[0m\u001b[0m\n\u001b[1;32m   4152\u001b[0m             \u001b[0;32mif\u001b[0m \u001b[0mlabels\u001b[0m \u001b[0;32mis\u001b[0m \u001b[0;32mnot\u001b[0m \u001b[0;32mNone\u001b[0m\u001b[0;34m:\u001b[0m\u001b[0;34m\u001b[0m\u001b[0;34m\u001b[0m\u001b[0m\n\u001b[0;32m-> 4153\u001b[0;31m                 \u001b[0mobj\u001b[0m \u001b[0;34m=\u001b[0m \u001b[0mobj\u001b[0m\u001b[0;34m.\u001b[0m\u001b[0m_drop_axis\u001b[0m\u001b[0;34m(\u001b[0m\u001b[0mlabels\u001b[0m\u001b[0;34m,\u001b[0m \u001b[0maxis\u001b[0m\u001b[0;34m,\u001b[0m \u001b[0mlevel\u001b[0m\u001b[0;34m=\u001b[0m\u001b[0mlevel\u001b[0m\u001b[0;34m,\u001b[0m \u001b[0merrors\u001b[0m\u001b[0;34m=\u001b[0m\u001b[0merrors\u001b[0m\u001b[0;34m)\u001b[0m\u001b[0;34m\u001b[0m\u001b[0;34m\u001b[0m\u001b[0m\n\u001b[0m\u001b[1;32m   4154\u001b[0m \u001b[0;34m\u001b[0m\u001b[0m\n\u001b[1;32m   4155\u001b[0m         \u001b[0;32mif\u001b[0m \u001b[0minplace\u001b[0m\u001b[0;34m:\u001b[0m\u001b[0;34m\u001b[0m\u001b[0;34m\u001b[0m\u001b[0m\n",
      "\u001b[0;32m~/opt/anaconda3/lib/python3.8/site-packages/pandas/core/generic.py\u001b[0m in \u001b[0;36m_drop_axis\u001b[0;34m(self, labels, axis, level, errors)\u001b[0m\n\u001b[1;32m   4186\u001b[0m                 \u001b[0mnew_axis\u001b[0m \u001b[0;34m=\u001b[0m \u001b[0maxis\u001b[0m\u001b[0;34m.\u001b[0m\u001b[0mdrop\u001b[0m\u001b[0;34m(\u001b[0m\u001b[0mlabels\u001b[0m\u001b[0;34m,\u001b[0m \u001b[0mlevel\u001b[0m\u001b[0;34m=\u001b[0m\u001b[0mlevel\u001b[0m\u001b[0;34m,\u001b[0m \u001b[0merrors\u001b[0m\u001b[0;34m=\u001b[0m\u001b[0merrors\u001b[0m\u001b[0;34m)\u001b[0m\u001b[0;34m\u001b[0m\u001b[0;34m\u001b[0m\u001b[0m\n\u001b[1;32m   4187\u001b[0m             \u001b[0;32melse\u001b[0m\u001b[0;34m:\u001b[0m\u001b[0;34m\u001b[0m\u001b[0;34m\u001b[0m\u001b[0m\n\u001b[0;32m-> 4188\u001b[0;31m                 \u001b[0mnew_axis\u001b[0m \u001b[0;34m=\u001b[0m \u001b[0maxis\u001b[0m\u001b[0;34m.\u001b[0m\u001b[0mdrop\u001b[0m\u001b[0;34m(\u001b[0m\u001b[0mlabels\u001b[0m\u001b[0;34m,\u001b[0m \u001b[0merrors\u001b[0m\u001b[0;34m=\u001b[0m\u001b[0merrors\u001b[0m\u001b[0;34m)\u001b[0m\u001b[0;34m\u001b[0m\u001b[0;34m\u001b[0m\u001b[0m\n\u001b[0m\u001b[1;32m   4189\u001b[0m             \u001b[0mresult\u001b[0m \u001b[0;34m=\u001b[0m \u001b[0mself\u001b[0m\u001b[0;34m.\u001b[0m\u001b[0mreindex\u001b[0m\u001b[0;34m(\u001b[0m\u001b[0;34m**\u001b[0m\u001b[0;34m{\u001b[0m\u001b[0maxis_name\u001b[0m\u001b[0;34m:\u001b[0m \u001b[0mnew_axis\u001b[0m\u001b[0;34m}\u001b[0m\u001b[0;34m)\u001b[0m\u001b[0;34m\u001b[0m\u001b[0;34m\u001b[0m\u001b[0m\n\u001b[1;32m   4190\u001b[0m \u001b[0;34m\u001b[0m\u001b[0m\n",
      "\u001b[0;32m~/opt/anaconda3/lib/python3.8/site-packages/pandas/core/indexes/base.py\u001b[0m in \u001b[0;36mdrop\u001b[0;34m(self, labels, errors)\u001b[0m\n\u001b[1;32m   5589\u001b[0m         \u001b[0;32mif\u001b[0m \u001b[0mmask\u001b[0m\u001b[0;34m.\u001b[0m\u001b[0many\u001b[0m\u001b[0;34m(\u001b[0m\u001b[0;34m)\u001b[0m\u001b[0;34m:\u001b[0m\u001b[0;34m\u001b[0m\u001b[0;34m\u001b[0m\u001b[0m\n\u001b[1;32m   5590\u001b[0m             \u001b[0;32mif\u001b[0m \u001b[0merrors\u001b[0m \u001b[0;34m!=\u001b[0m \u001b[0;34m\"ignore\"\u001b[0m\u001b[0;34m:\u001b[0m\u001b[0;34m\u001b[0m\u001b[0;34m\u001b[0m\u001b[0m\n\u001b[0;32m-> 5591\u001b[0;31m                 \u001b[0;32mraise\u001b[0m \u001b[0mKeyError\u001b[0m\u001b[0;34m(\u001b[0m\u001b[0;34mf\"{labels[mask]} not found in axis\"\u001b[0m\u001b[0;34m)\u001b[0m\u001b[0;34m\u001b[0m\u001b[0;34m\u001b[0m\u001b[0m\n\u001b[0m\u001b[1;32m   5592\u001b[0m             \u001b[0mindexer\u001b[0m \u001b[0;34m=\u001b[0m \u001b[0mindexer\u001b[0m\u001b[0;34m[\u001b[0m\u001b[0;34m~\u001b[0m\u001b[0mmask\u001b[0m\u001b[0;34m]\u001b[0m\u001b[0;34m\u001b[0m\u001b[0;34m\u001b[0m\u001b[0m\n\u001b[1;32m   5593\u001b[0m         \u001b[0;32mreturn\u001b[0m \u001b[0mself\u001b[0m\u001b[0;34m.\u001b[0m\u001b[0mdelete\u001b[0m\u001b[0;34m(\u001b[0m\u001b[0mindexer\u001b[0m\u001b[0;34m)\u001b[0m\u001b[0;34m\u001b[0m\u001b[0;34m\u001b[0m\u001b[0m\n",
      "\u001b[0;31mKeyError\u001b[0m: '[0] not found in axis'"
     ]
    }
   ],
   "source": [
    "changes_in_capital = changes_in_capital.drop(0,axis=0)"
   ]
  },
  {
   "cell_type": "markdown",
   "id": "de8dbda1-30a8-40b1-b9db-ad3f91d982e7",
   "metadata": {},
   "source": [
    "Remove the empty row from the changes_in_capital variable "
   ]
  },
  {
   "cell_type": "code",
   "execution_count": 223,
   "id": "c5a41ccb-9185-4c8d-9b03-66a85531ab64",
   "metadata": {},
   "outputs": [],
   "source": [
    "changes_in_capital = changes_in_capital.sort_values(by = 'Change in Capital', ascending = True)"
   ]
  },
  {
   "cell_type": "markdown",
   "id": "6fa4e904-2622-406d-98a5-977ff21e8cc3",
   "metadata": {},
   "source": [
    "Sort the 'Change in Capital' column in ascending order to show the different changes in capital required"
   ]
  },
  {
   "cell_type": "code",
   "execution_count": 224,
   "id": "7ca7948a-d329-4efd-a02f-81ab1f813ba3",
   "metadata": {},
   "outputs": [
    {
     "name": "stdout",
     "output_type": "stream",
     "text": [
      "      Unnamed: 0  allocation_fraction  New Capital  Old Capital  \\\n",
      "2          Quant                  0.5       1050.0        500.0   \n",
      "4     SEC Fines                   0.1        210.0          0.0   \n",
      "1      Arbitrage                  0.3        630.0       1000.0   \n",
      "3  Discretionary                  0.1        210.0        600.0   \n",
      "\n",
      "   Change in Capital  \n",
      "2             -550.0  \n",
      "4             -210.0  \n",
      "1              370.0  \n",
      "3              390.0  \n"
     ]
    }
   ],
   "source": [
    "print(changes_in_capital)"
   ]
  },
  {
   "cell_type": "code",
   "execution_count": 225,
   "id": "41a349bf-ec52-403d-b543-670764f1704a",
   "metadata": {},
   "outputs": [],
   "source": [
    "amount1 = changes_in_capital['Change in Capital'][1]"
   ]
  },
  {
   "cell_type": "code",
   "execution_count": null,
   "id": "c1a38c26-fe8d-49ea-a5c1-df0e51867597",
   "metadata": {},
   "outputs": [],
   "source": []
  },
  {
   "cell_type": "code",
   "execution_count": 226,
   "id": "8e7f1d2f-7f86-4008-adc5-6986abe3fb5c",
   "metadata": {},
   "outputs": [],
   "source": [
    "amount2 = changes_in_capital['Change in Capital'][2]"
   ]
  },
  {
   "cell_type": "code",
   "execution_count": 227,
   "id": "4e94935a-2145-425a-bf55-ee763180ca35",
   "metadata": {},
   "outputs": [],
   "source": [
    "amount3 = changes_in_capital['Change in Capital'][3]"
   ]
  },
  {
   "cell_type": "code",
   "execution_count": 228,
   "id": "cb3d041f-1c6a-4727-8f1c-2756183e148d",
   "metadata": {},
   "outputs": [],
   "source": [
    "amount4 = changes_in_capital['Change in Capital'][4]"
   ]
  },
  {
   "cell_type": "code",
   "execution_count": 229,
   "id": "db738cb4-efc7-4ce0-a188-74e8f05d9aac",
   "metadata": {},
   "outputs": [],
   "source": [
    "name1 = changes_in_capital['Unnamed: 0'][1]"
   ]
  },
  {
   "cell_type": "code",
   "execution_count": 230,
   "id": "e2d55cd8-a27b-4cd4-aa0b-45a4def808d1",
   "metadata": {},
   "outputs": [],
   "source": [
    "name2 = changes_in_capital['Unnamed: 0'][2]"
   ]
  },
  {
   "cell_type": "code",
   "execution_count": 231,
   "id": "e66177c6-db6d-4bc0-a863-d7db0c8c13d1",
   "metadata": {},
   "outputs": [],
   "source": [
    "name3 = changes_in_capital['Unnamed: 0'][3]"
   ]
  },
  {
   "cell_type": "code",
   "execution_count": 232,
   "id": "d5b2cfb2-29f8-4eee-8d36-f9ef09b9f2ee",
   "metadata": {},
   "outputs": [],
   "source": [
    "name4 = changes_in_capital['Unnamed: 0'][4]"
   ]
  },
  {
   "cell_type": "code",
   "execution_count": 233,
   "id": "ba8a93f1-9658-498e-b0c5-055eaf08a645",
   "metadata": {},
   "outputs": [
    {
     "name": "stdout",
     "output_type": "stream",
     "text": [
      "Send 370.0 from Arbitrage to Discretionary\n"
     ]
    }
   ],
   "source": [
    "print(\"Send \" + str(amount1) + \" from \" + name1 + \" to \" + name3)"
   ]
  },
  {
   "cell_type": "code",
   "execution_count": 234,
   "id": "08ed49cc-472a-40f2-9e51-6afabbee7d8b",
   "metadata": {},
   "outputs": [
    {
     "name": "stdout",
     "output_type": "stream",
     "text": [
      "Send 210.0 from Discretionary to SEC Fines \n"
     ]
    }
   ],
   "source": [
    "print(\"Send \" + str(-amount4) + \" from \" + name3 + \" to \" + name4)"
   ]
  },
  {
   "cell_type": "code",
   "execution_count": 235,
   "id": "ce008854-240d-483c-b184-63e31512f9ea",
   "metadata": {},
   "outputs": [
    {
     "name": "stdout",
     "output_type": "stream",
     "text": [
      "Send 180.0 from DiscretionarytoQuant\n"
     ]
    }
   ],
   "source": [
    "print(\"Send \"+ str(amount3+amount4) + \" from \" + name3 + \"to\" + name2)"
   ]
  },
  {
   "cell_type": "code",
   "execution_count": null,
   "id": "6fad7385-4f96-406e-bab5-f6613a4983cc",
   "metadata": {},
   "outputs": [],
   "source": []
  },
  {
   "cell_type": "code",
   "execution_count": null,
   "id": "9301a97b-16d8-4dd8-a6b1-f95c0139870a",
   "metadata": {},
   "outputs": [],
   "source": []
  }
 ],
 "metadata": {
  "kernelspec": {
   "display_name": "Python 3",
   "language": "python",
   "name": "python3"
  },
  "language_info": {
   "codemirror_mode": {
    "name": "ipython",
    "version": 3
   },
   "file_extension": ".py",
   "mimetype": "text/x-python",
   "name": "python",
   "nbconvert_exporter": "python",
   "pygments_lexer": "ipython3",
   "version": "3.8.8"
  }
 },
 "nbformat": 4,
 "nbformat_minor": 5
}
