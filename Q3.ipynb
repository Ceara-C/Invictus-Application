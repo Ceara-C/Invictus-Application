{
 "cells": [
  {
   "cell_type": "code",
   "execution_count": 103,
   "id": "09149682-dcdb-40fd-9fbf-7b38aeb0c184",
   "metadata": {},
   "outputs": [],
   "source": [
    "import pandas as pd"
   ]
  },
  {
   "cell_type": "code",
   "execution_count": 104,
   "id": "96c30dce-f080-43da-ab92-5f83604fbdcd",
   "metadata": {},
   "outputs": [],
   "source": [
    "import requests"
   ]
  },
  {
   "cell_type": "code",
   "execution_count": 105,
   "id": "dde3eba5-1f58-4a16-a635-5504671390c8",
   "metadata": {},
   "outputs": [],
   "source": [
    "historical = requests.get('https://ftx.com/api/markets/BTC/USD/candles?resolution=300&start_time=1593561600&end_time=1625097600').json()"
   ]
  },
  {
   "cell_type": "markdown",
   "id": "b5f6d9ce-7e05-42da-98da-ef621041bda3",
   "metadata": {},
   "source": [
    "Import the BTC/USD data from FTX exchange starting 1 July 2020 and ending 1 July 2020 with resolution 300 which is 5 minutes using the requests library "
   ]
  },
  {
   "cell_type": "code",
   "execution_count": 106,
   "id": "33cf0e3a-0862-4e49-9795-584ea030e4f9",
   "metadata": {},
   "outputs": [],
   "source": [
    "historical = pd.DataFrame(historical['result'])"
   ]
  },
  {
   "cell_type": "code",
   "execution_count": 107,
   "id": "a957cc7c-4e84-497e-a64d-9a234c402fd4",
   "metadata": {},
   "outputs": [
    {
     "data": {
      "text/html": [
       "<div>\n",
       "<style scoped>\n",
       "    .dataframe tbody tr th:only-of-type {\n",
       "        vertical-align: middle;\n",
       "    }\n",
       "\n",
       "    .dataframe tbody tr th {\n",
       "        vertical-align: top;\n",
       "    }\n",
       "\n",
       "    .dataframe thead th {\n",
       "        text-align: right;\n",
       "    }\n",
       "</style>\n",
       "<table border=\"1\" class=\"dataframe\">\n",
       "  <thead>\n",
       "    <tr style=\"text-align: right;\">\n",
       "      <th></th>\n",
       "      <th>startTime</th>\n",
       "      <th>time</th>\n",
       "      <th>open</th>\n",
       "      <th>high</th>\n",
       "      <th>low</th>\n",
       "      <th>close</th>\n",
       "      <th>volume</th>\n",
       "    </tr>\n",
       "  </thead>\n",
       "  <tbody>\n",
       "    <tr>\n",
       "      <th>0</th>\n",
       "      <td>2021-06-25T19:00:00+00:00</td>\n",
       "      <td>1.624648e+12</td>\n",
       "      <td>32080.0</td>\n",
       "      <td>32133.0</td>\n",
       "      <td>32006.0</td>\n",
       "      <td>32037.0</td>\n",
       "      <td>9.751184e+05</td>\n",
       "    </tr>\n",
       "    <tr>\n",
       "      <th>1</th>\n",
       "      <td>2021-06-25T19:05:00+00:00</td>\n",
       "      <td>1.624648e+12</td>\n",
       "      <td>32039.0</td>\n",
       "      <td>32072.0</td>\n",
       "      <td>31744.0</td>\n",
       "      <td>31799.0</td>\n",
       "      <td>2.606258e+06</td>\n",
       "    </tr>\n",
       "    <tr>\n",
       "      <th>2</th>\n",
       "      <td>2021-06-25T19:10:00+00:00</td>\n",
       "      <td>1.624648e+12</td>\n",
       "      <td>31799.0</td>\n",
       "      <td>32163.0</td>\n",
       "      <td>31799.0</td>\n",
       "      <td>32105.0</td>\n",
       "      <td>1.793975e+06</td>\n",
       "    </tr>\n",
       "    <tr>\n",
       "      <th>3</th>\n",
       "      <td>2021-06-25T19:15:00+00:00</td>\n",
       "      <td>1.624648e+12</td>\n",
       "      <td>32105.0</td>\n",
       "      <td>32407.0</td>\n",
       "      <td>32105.0</td>\n",
       "      <td>32378.0</td>\n",
       "      <td>4.321523e+06</td>\n",
       "    </tr>\n",
       "    <tr>\n",
       "      <th>4</th>\n",
       "      <td>2021-06-25T19:20:00+00:00</td>\n",
       "      <td>1.624649e+12</td>\n",
       "      <td>32383.0</td>\n",
       "      <td>32470.0</td>\n",
       "      <td>32313.0</td>\n",
       "      <td>32337.0</td>\n",
       "      <td>2.579071e+06</td>\n",
       "    </tr>\n",
       "  </tbody>\n",
       "</table>\n",
       "</div>"
      ],
      "text/plain": [
       "                   startTime          time     open     high      low  \\\n",
       "0  2021-06-25T19:00:00+00:00  1.624648e+12  32080.0  32133.0  32006.0   \n",
       "1  2021-06-25T19:05:00+00:00  1.624648e+12  32039.0  32072.0  31744.0   \n",
       "2  2021-06-25T19:10:00+00:00  1.624648e+12  31799.0  32163.0  31799.0   \n",
       "3  2021-06-25T19:15:00+00:00  1.624648e+12  32105.0  32407.0  32105.0   \n",
       "4  2021-06-25T19:20:00+00:00  1.624649e+12  32383.0  32470.0  32313.0   \n",
       "\n",
       "     close        volume  \n",
       "0  32037.0  9.751184e+05  \n",
       "1  31799.0  2.606258e+06  \n",
       "2  32105.0  1.793975e+06  \n",
       "3  32378.0  4.321523e+06  \n",
       "4  32337.0  2.579071e+06  "
      ]
     },
     "execution_count": 107,
     "metadata": {},
     "output_type": "execute_result"
    }
   ],
   "source": [
    "historical.head()"
   ]
  },
  {
   "cell_type": "code",
   "execution_count": 108,
   "id": "9d05cf1e-21ea-4cc5-a0c8-da5e9eb2df73",
   "metadata": {},
   "outputs": [
    {
     "name": "stdout",
     "output_type": "stream",
     "text": [
      "                      startTime          time     open     high      low  \\\n",
      "0     2021-06-25T19:00:00+00:00  1.624648e+12  32080.0  32133.0  32006.0   \n",
      "1     2021-06-25T19:05:00+00:00  1.624648e+12  32039.0  32072.0  31744.0   \n",
      "2     2021-06-25T19:10:00+00:00  1.624648e+12  31799.0  32163.0  31799.0   \n",
      "3     2021-06-25T19:15:00+00:00  1.624648e+12  32105.0  32407.0  32105.0   \n",
      "4     2021-06-25T19:20:00+00:00  1.624649e+12  32383.0  32470.0  32313.0   \n",
      "...                         ...           ...      ...      ...      ...   \n",
      "1496  2021-06-30T23:40:00+00:00  1.625096e+12  35054.0  35117.0  35035.0   \n",
      "1497  2021-06-30T23:45:00+00:00  1.625097e+12  35106.0  35215.0  35105.0   \n",
      "1498  2021-06-30T23:50:00+00:00  1.625097e+12  35136.0  35136.0  35047.0   \n",
      "1499  2021-06-30T23:55:00+00:00  1.625097e+12  35061.0  35071.0  35004.0   \n",
      "1500  2021-07-01T00:00:00+00:00  1.625098e+12  35056.0  35067.0  34926.0   \n",
      "\n",
      "        close        volume  \n",
      "0     32037.0  9.751184e+05  \n",
      "1     31799.0  2.606258e+06  \n",
      "2     32105.0  1.793975e+06  \n",
      "3     32378.0  4.321523e+06  \n",
      "4     32337.0  2.579071e+06  \n",
      "...       ...           ...  \n",
      "1496  35105.0  1.202773e+06  \n",
      "1497  35136.0  2.105649e+06  \n",
      "1498  35061.0  1.262838e+06  \n",
      "1499  35056.0  8.006901e+05  \n",
      "1500  34971.0  1.999799e+06  \n",
      "\n",
      "[1501 rows x 7 columns]\n"
     ]
    }
   ],
   "source": [
    "print(historical)"
   ]
  },
  {
   "cell_type": "code",
   "execution_count": 109,
   "id": "81aea4bf-9433-480b-a841-57ae9d6c4112",
   "metadata": {},
   "outputs": [],
   "source": [
    "historical['return'] = historical['close']- historical['open']"
   ]
  },
  {
   "cell_type": "markdown",
   "id": "27574fd8-6918-4a9c-b174-941420181387",
   "metadata": {},
   "source": [
    "Create a column within the historical variable known as 'return' per 5 minutes whcih is calculated as the difference between the open and closing values (return every 5 minutes) "
   ]
  },
  {
   "cell_type": "markdown",
   "id": "cfc20d11-9766-4b39-8c68-80a5f7cd580b",
   "metadata": {},
   "source": [
    "Given that we are using data for every 5 minutes, the risk-free rate in South Africa for a 5 minute investment can be assumed to be zero when calculating the Sharpe ratio as there the return on risk-free investments every 5 minutes or even daily is so small it is not relevant in these calculations. "
   ]
  },
  {
   "cell_type": "code",
   "execution_count": 110,
   "id": "6811f7ba-8054-47c1-8e04-031049a162ba",
   "metadata": {},
   "outputs": [],
   "source": [
    "sharpe_ratio = historical['return'].mean()/historical['return'].std()\n"
   ]
  },
  {
   "cell_type": "code",
   "execution_count": 111,
   "id": "571c55cb-43d2-4414-b281-10824d831bb8",
   "metadata": {},
   "outputs": [
    {
     "name": "stdout",
     "output_type": "stream",
     "text": [
      "0.020235983568832848\n"
     ]
    }
   ],
   "source": [
    "print(sharpe_ratio)"
   ]
  },
  {
   "cell_type": "markdown",
   "id": "6b73cedb-87ab-4740-8489-9c40530ac81d",
   "metadata": {},
   "source": [
    "Calculate the sharpe ratio using the mean and standard deviations of the returns"
   ]
  },
  {
   "cell_type": "code",
   "execution_count": 112,
   "id": "8b5b4c24-d554-491d-b44a-f8056b46b299",
   "metadata": {},
   "outputs": [
    {
     "name": "stdout",
     "output_type": "stream",
     "text": [
      "                      startTime          time     open     high      low  \\\n",
      "0     2021-06-25T19:00:00+00:00  1.624648e+12  32080.0  32133.0  32006.0   \n",
      "1     2021-06-25T19:05:00+00:00  1.624648e+12  32039.0  32072.0  31744.0   \n",
      "2     2021-06-25T19:10:00+00:00  1.624648e+12  31799.0  32163.0  31799.0   \n",
      "3     2021-06-25T19:15:00+00:00  1.624648e+12  32105.0  32407.0  32105.0   \n",
      "4     2021-06-25T19:20:00+00:00  1.624649e+12  32383.0  32470.0  32313.0   \n",
      "...                         ...           ...      ...      ...      ...   \n",
      "1496  2021-06-30T23:40:00+00:00  1.625096e+12  35054.0  35117.0  35035.0   \n",
      "1497  2021-06-30T23:45:00+00:00  1.625097e+12  35106.0  35215.0  35105.0   \n",
      "1498  2021-06-30T23:50:00+00:00  1.625097e+12  35136.0  35136.0  35047.0   \n",
      "1499  2021-06-30T23:55:00+00:00  1.625097e+12  35061.0  35071.0  35004.0   \n",
      "1500  2021-07-01T00:00:00+00:00  1.625098e+12  35056.0  35067.0  34926.0   \n",
      "\n",
      "        close        volume  return  \n",
      "0     32037.0  9.751184e+05   -43.0  \n",
      "1     31799.0  2.606258e+06  -240.0  \n",
      "2     32105.0  1.793975e+06   306.0  \n",
      "3     32378.0  4.321523e+06   273.0  \n",
      "4     32337.0  2.579071e+06   -46.0  \n",
      "...       ...           ...     ...  \n",
      "1496  35105.0  1.202773e+06    51.0  \n",
      "1497  35136.0  2.105649e+06    30.0  \n",
      "1498  35061.0  1.262838e+06   -75.0  \n",
      "1499  35056.0  8.006901e+05    -5.0  \n",
      "1500  34971.0  1.999799e+06   -85.0  \n",
      "\n",
      "[1501 rows x 8 columns]\n"
     ]
    }
   ],
   "source": [
    "print(historical)"
   ]
  },
  {
   "cell_type": "code",
   "execution_count": 113,
   "id": "0d9dc09f-ff51-4240-acfc-454e8922aeb2",
   "metadata": {},
   "outputs": [],
   "source": [
    "column = historical['return'].tolist()\n"
   ]
  },
  {
   "cell_type": "code",
   "execution_count": 114,
   "id": "a95cfef6-a4e4-488c-af66-88f202f69ff0",
   "metadata": {},
   "outputs": [],
   "source": [
    "import numpy as np\n",
    "def Negative(List):  \n",
    "      \n",
    "      for i in List:\n",
    "        if i < 0:\n",
    "            i = i \n",
    "        else:\n",
    "            i = 0 \n",
    "            return np.std(List)"
   ]
  },
  {
   "cell_type": "code",
   "execution_count": 115,
   "id": "e89d136d-3851-4b54-9672-c5fcd2ad8edc",
   "metadata": {},
   "outputs": [],
   "source": [
    "column_std = Negative(column)"
   ]
  },
  {
   "cell_type": "markdown",
   "id": "114f0fb7-c973-45f7-b42b-0bd03843c110",
   "metadata": {},
   "source": [
    "Create a function to return the standard deviation of only the negative values of the 5 minute returns \n"
   ]
  },
  {
   "cell_type": "markdown",
   "id": "5c36ee42-7ec8-479d-8596-064d36934b83",
   "metadata": {},
   "source": [
    "Use this negative value as the std deviation in the calculation for sortino ratio "
   ]
  },
  {
   "cell_type": "markdown",
   "id": "4e5c2d9e-f2a6-4b39-bc95-940e72977c1c",
   "metadata": {},
   "source": [
    "When calculating sortino ratio, there is no target return"
   ]
  },
  {
   "cell_type": "code",
   "execution_count": 116,
   "id": "dfcdd292-aa5d-424c-b2e8-fab373c5f559",
   "metadata": {},
   "outputs": [],
   "source": [
    "Sortino_ratio = historical['return'].mean()/column_std"
   ]
  },
  {
   "cell_type": "code",
   "execution_count": 117,
   "id": "a713f37a-263f-4641-9bdc-fdf0944ca7d1",
   "metadata": {},
   "outputs": [
    {
     "name": "stdout",
     "output_type": "stream",
     "text": [
      "0.02024272777284242\n"
     ]
    }
   ],
   "source": [
    "print(Sortino_ratio)"
   ]
  },
  {
   "cell_type": "code",
   "execution_count": null,
   "id": "ac5779e1-00c9-4f90-a13d-ec522a460c8b",
   "metadata": {},
   "outputs": [],
   "source": []
  },
  {
   "cell_type": "code",
   "execution_count": null,
   "id": "73014b25-8e7c-4416-84f7-a52bd56327c1",
   "metadata": {},
   "outputs": [],
   "source": []
  }
 ],
 "metadata": {
  "kernelspec": {
   "display_name": "Python 3",
   "language": "python",
   "name": "python3"
  },
  "language_info": {
   "codemirror_mode": {
    "name": "ipython",
    "version": 3
   },
   "file_extension": ".py",
   "mimetype": "text/x-python",
   "name": "python",
   "nbconvert_exporter": "python",
   "pygments_lexer": "ipython3",
   "version": "3.8.8"
  }
 },
 "nbformat": 4,
 "nbformat_minor": 5
}
