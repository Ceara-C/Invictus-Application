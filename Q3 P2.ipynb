{
 "cells": [
  {
   "cell_type": "code",
   "execution_count": 24,
   "id": "c4c7a1c3-d29d-441a-a338-6c2a5cb3c751",
   "metadata": {},
   "outputs": [],
   "source": [
    "import pandas as pd"
   ]
  },
  {
   "cell_type": "code",
   "execution_count": 25,
   "id": "4f3ec585-71d4-46dc-af71-46e26ac6273a",
   "metadata": {},
   "outputs": [],
   "source": [
    "import requests"
   ]
  },
  {
   "cell_type": "code",
   "execution_count": null,
   "id": "6e4d0639-acc1-4368-aeaa-2e6fdfea8b3f",
   "metadata": {},
   "outputs": [],
   "source": []
  },
  {
   "cell_type": "code",
   "execution_count": 26,
   "id": "e3d50528-d40b-4741-bb6f-e1a9ce88337e",
   "metadata": {},
   "outputs": [],
   "source": [
    "hist_ETH = requests.get('https://ftx.com/api/markets/ETH/USD/candles?resolution=300&start_time=1593561600&end_time=1625097600').json()"
   ]
  },
  {
   "cell_type": "code",
   "execution_count": 27,
   "id": "6e060aca-cb5f-4db4-a5b9-c3f55abab1e9",
   "metadata": {},
   "outputs": [],
   "source": [
    "hist_ETH = pd.DataFrame(hist_ETH['result'])"
   ]
  },
  {
   "cell_type": "code",
   "execution_count": 28,
   "id": "5756cc31-0ea5-4c2a-9aa5-da84b2fcc327",
   "metadata": {},
   "outputs": [
    {
     "data": {
      "text/html": [
       "<div>\n",
       "<style scoped>\n",
       "    .dataframe tbody tr th:only-of-type {\n",
       "        vertical-align: middle;\n",
       "    }\n",
       "\n",
       "    .dataframe tbody tr th {\n",
       "        vertical-align: top;\n",
       "    }\n",
       "\n",
       "    .dataframe thead th {\n",
       "        text-align: right;\n",
       "    }\n",
       "</style>\n",
       "<table border=\"1\" class=\"dataframe\">\n",
       "  <thead>\n",
       "    <tr style=\"text-align: right;\">\n",
       "      <th></th>\n",
       "      <th>startTime</th>\n",
       "      <th>time</th>\n",
       "      <th>open</th>\n",
       "      <th>high</th>\n",
       "      <th>low</th>\n",
       "      <th>close</th>\n",
       "      <th>volume</th>\n",
       "    </tr>\n",
       "  </thead>\n",
       "  <tbody>\n",
       "    <tr>\n",
       "      <th>0</th>\n",
       "      <td>2021-06-25T19:00:00+00:00</td>\n",
       "      <td>1.624648e+12</td>\n",
       "      <td>1838.6</td>\n",
       "      <td>1844.9</td>\n",
       "      <td>1834.0</td>\n",
       "      <td>1836.1</td>\n",
       "      <td>5.761444e+05</td>\n",
       "    </tr>\n",
       "    <tr>\n",
       "      <th>1</th>\n",
       "      <td>2021-06-25T19:05:00+00:00</td>\n",
       "      <td>1.624648e+12</td>\n",
       "      <td>1836.1</td>\n",
       "      <td>1837.2</td>\n",
       "      <td>1826.6</td>\n",
       "      <td>1827.6</td>\n",
       "      <td>9.442661e+05</td>\n",
       "    </tr>\n",
       "    <tr>\n",
       "      <th>2</th>\n",
       "      <td>2021-06-25T19:10:00+00:00</td>\n",
       "      <td>1.624648e+12</td>\n",
       "      <td>1827.6</td>\n",
       "      <td>1847.1</td>\n",
       "      <td>1827.6</td>\n",
       "      <td>1843.7</td>\n",
       "      <td>7.120486e+05</td>\n",
       "    </tr>\n",
       "    <tr>\n",
       "      <th>3</th>\n",
       "      <td>2021-06-25T19:15:00+00:00</td>\n",
       "      <td>1.624648e+12</td>\n",
       "      <td>1843.7</td>\n",
       "      <td>1855.8</td>\n",
       "      <td>1843.2</td>\n",
       "      <td>1855.2</td>\n",
       "      <td>1.461957e+06</td>\n",
       "    </tr>\n",
       "    <tr>\n",
       "      <th>4</th>\n",
       "      <td>2021-06-25T19:20:00+00:00</td>\n",
       "      <td>1.624649e+12</td>\n",
       "      <td>1855.2</td>\n",
       "      <td>1870.0</td>\n",
       "      <td>1855.1</td>\n",
       "      <td>1861.1</td>\n",
       "      <td>4.190453e+06</td>\n",
       "    </tr>\n",
       "  </tbody>\n",
       "</table>\n",
       "</div>"
      ],
      "text/plain": [
       "                   startTime          time    open    high     low   close  \\\n",
       "0  2021-06-25T19:00:00+00:00  1.624648e+12  1838.6  1844.9  1834.0  1836.1   \n",
       "1  2021-06-25T19:05:00+00:00  1.624648e+12  1836.1  1837.2  1826.6  1827.6   \n",
       "2  2021-06-25T19:10:00+00:00  1.624648e+12  1827.6  1847.1  1827.6  1843.7   \n",
       "3  2021-06-25T19:15:00+00:00  1.624648e+12  1843.7  1855.8  1843.2  1855.2   \n",
       "4  2021-06-25T19:20:00+00:00  1.624649e+12  1855.2  1870.0  1855.1  1861.1   \n",
       "\n",
       "         volume  \n",
       "0  5.761444e+05  \n",
       "1  9.442661e+05  \n",
       "2  7.120486e+05  \n",
       "3  1.461957e+06  \n",
       "4  4.190453e+06  "
      ]
     },
     "execution_count": 28,
     "metadata": {},
     "output_type": "execute_result"
    }
   ],
   "source": [
    "hist_ETH.head()"
   ]
  },
  {
   "cell_type": "code",
   "execution_count": null,
   "id": "98031e55-fd47-40ad-9802-8843fed8bed0",
   "metadata": {},
   "outputs": [],
   "source": []
  },
  {
   "cell_type": "code",
   "execution_count": 29,
   "id": "7dc6df70-a8c4-4323-91bc-7223f3c5f8c4",
   "metadata": {},
   "outputs": [],
   "source": [
    "hist_ETH['return'] = hist_ETH['close']- hist_ETH['open']"
   ]
  },
  {
   "cell_type": "markdown",
   "id": "7abdc82d-690e-4d3e-a73e-45dad632bcf6",
   "metadata": {},
   "source": [
    "Create a column within the historical variable known as 'return' per 5 minutes whcih is calculated as the difference between the open and closing values (return every 5 minutes) "
   ]
  },
  {
   "cell_type": "markdown",
   "id": "d70da85b-5e81-4b21-a0e5-ae32cb204873",
   "metadata": {},
   "source": [
    "Given that we are using data for every 5 minutes, the risk-free rate in South Africa for a 5 minute investment can be assumed to be zero when calculating the Sharpe ratio as there the return on risk-free investments every 5 minutes or even daily is so small it is not relevant in these calculations. "
   ]
  },
  {
   "cell_type": "code",
   "execution_count": 30,
   "id": "c0b80965-c0ce-414e-8a29-eea44f2246b8",
   "metadata": {},
   "outputs": [],
   "source": [
    "sharpe_ratio = hist_ETH['return'].mean()/hist_ETH['return'].std()\n"
   ]
  },
  {
   "cell_type": "code",
   "execution_count": 31,
   "id": "a2378f18-24c8-48c1-a9b7-57c67be0b596",
   "metadata": {},
   "outputs": [
    {
     "name": "stdout",
     "output_type": "stream",
     "text": [
      "0.04335571445663321\n"
     ]
    }
   ],
   "source": [
    "print(sharpe_ratio)"
   ]
  },
  {
   "cell_type": "markdown",
   "id": "dc862c9c-2afc-43fa-839a-21fb1fdd4bc2",
   "metadata": {},
   "source": [
    "Calculate the sharpe ratio using the mean and standard deviations of the returns"
   ]
  },
  {
   "cell_type": "code",
   "execution_count": 32,
   "id": "a5d0c6ae-9cb1-446f-8fd0-51cebfece5d8",
   "metadata": {},
   "outputs": [],
   "source": [
    "column1 = hist_ETH['return'].tolist()"
   ]
  },
  {
   "cell_type": "code",
   "execution_count": 33,
   "id": "048a026d-5248-4391-a5b0-641db30d36ee",
   "metadata": {},
   "outputs": [],
   "source": [
    "def Negative(List):    \n",
    "      sum=0\n",
    "\n",
    "      for i in List:\n",
    "             if i < 0:\n",
    "                 sum += i\n",
    "                 return sum"
   ]
  },
  {
   "cell_type": "code",
   "execution_count": 34,
   "id": "e21146f1-1e66-486b-8ec6-ce25a3514167",
   "metadata": {},
   "outputs": [],
   "source": [
    "column1_std = Negative(column1)"
   ]
  },
  {
   "cell_type": "markdown",
   "id": "5f597a9e-ce68-4f02-81ac-b57f1d84fb41",
   "metadata": {},
   "source": [
    "Create function to calculate std deviations of negative returns only, use this value to calculate sortino ratio without using target return as there is no target return in 5 minute intervales"
   ]
  },
  {
   "cell_type": "code",
   "execution_count": 35,
   "id": "dca5f667-40fe-4475-bf3d-38e63753d224",
   "metadata": {},
   "outputs": [],
   "source": [
    "Sortino_ratio = hist_ETH['return'].mean()/column1_std"
   ]
  },
  {
   "cell_type": "code",
   "execution_count": 36,
   "id": "efe9e3b3-4b13-4aab-9822-4115c885f82a",
   "metadata": {},
   "outputs": [
    {
     "name": "stdout",
     "output_type": "stream",
     "text": [
      "-0.11312458361092641\n"
     ]
    }
   ],
   "source": [
    "print(Sortino_ratio)"
   ]
  },
  {
   "cell_type": "code",
   "execution_count": null,
   "id": "292d4bc2-095f-42a2-b707-1fba64b0e6af",
   "metadata": {},
   "outputs": [],
   "source": []
  }
 ],
 "metadata": {
  "kernelspec": {
   "display_name": "Python 3",
   "language": "python",
   "name": "python3"
  },
  "language_info": {
   "codemirror_mode": {
    "name": "ipython",
    "version": 3
   },
   "file_extension": ".py",
   "mimetype": "text/x-python",
   "name": "python",
   "nbconvert_exporter": "python",
   "pygments_lexer": "ipython3",
   "version": "3.8.8"
  }
 },
 "nbformat": 4,
 "nbformat_minor": 5
}
