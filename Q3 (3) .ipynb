{
 "cells": [
  {
   "cell_type": "code",
   "execution_count": null,
   "id": "485d22c7-de0a-479b-aa82-7468e8ba72a2",
   "metadata": {},
   "outputs": [],
   "source": []
  },
  {
   "cell_type": "code",
   "execution_count": 50,
   "id": "d16a61c6-e820-4cd1-a2b0-eb7647d42bdc",
   "metadata": {},
   "outputs": [],
   "source": [
    "import pandas as pd \n",
    "import requests "
   ]
  },
  {
   "cell_type": "code",
   "execution_count": 51,
   "id": "3b043f0b-59ee-4e2d-95a8-97519f762576",
   "metadata": {},
   "outputs": [],
   "source": [
    "historicalBTC = requests.get('https://ftx.com/api/markets/BTC/USD/candles?resolution=300&start_time=1593561600&end_time=1625097600').json()"
   ]
  },
  {
   "cell_type": "code",
   "execution_count": 52,
   "id": "d9606aa8-ff69-4ad1-9e4a-98bffd6f7a1c",
   "metadata": {},
   "outputs": [],
   "source": [
    "historicalETH = requests.get('https://ftx.com/api/markets/ETH/USD/candles?resolution=300&start_time=1593561600&end_time=1625097600').json()"
   ]
  },
  {
   "cell_type": "markdown",
   "id": "2a64bd6f-89fd-420d-9b5d-e7409cd5677d",
   "metadata": {},
   "source": [
    "Import the spot prices of BTC and ETH from FTX exchange from 1 July 2020 to 1 July 2021 in OHLCV form in 5 minute intervals"
   ]
  },
  {
   "cell_type": "code",
   "execution_count": 53,
   "id": "747d01f2-1fe8-4bce-b2a7-34e6f4e2fcd5",
   "metadata": {},
   "outputs": [],
   "source": [
    "historicalBTC = pd.DataFrame(historicalBTC['result'])"
   ]
  },
  {
   "cell_type": "code",
   "execution_count": 54,
   "id": "9941bac2-6a52-4895-abd9-69868e8e1c0c",
   "metadata": {},
   "outputs": [],
   "source": [
    "historicalETH = pd.DataFrame(historicalETH['result'])"
   ]
  },
  {
   "cell_type": "code",
   "execution_count": 55,
   "id": "c7282159-7831-47dc-8076-86c7a5d2ae6e",
   "metadata": {},
   "outputs": [
    {
     "data": {
      "text/html": [
       "<div>\n",
       "<style scoped>\n",
       "    .dataframe tbody tr th:only-of-type {\n",
       "        vertical-align: middle;\n",
       "    }\n",
       "\n",
       "    .dataframe tbody tr th {\n",
       "        vertical-align: top;\n",
       "    }\n",
       "\n",
       "    .dataframe thead th {\n",
       "        text-align: right;\n",
       "    }\n",
       "</style>\n",
       "<table border=\"1\" class=\"dataframe\">\n",
       "  <thead>\n",
       "    <tr style=\"text-align: right;\">\n",
       "      <th></th>\n",
       "      <th>startTime</th>\n",
       "      <th>time</th>\n",
       "      <th>open</th>\n",
       "      <th>high</th>\n",
       "      <th>low</th>\n",
       "      <th>close</th>\n",
       "      <th>volume</th>\n",
       "    </tr>\n",
       "  </thead>\n",
       "  <tbody>\n",
       "    <tr>\n",
       "      <th>0</th>\n",
       "      <td>2021-06-25T19:00:00+00:00</td>\n",
       "      <td>1.624648e+12</td>\n",
       "      <td>32080.0</td>\n",
       "      <td>32133.0</td>\n",
       "      <td>32006.0</td>\n",
       "      <td>32037.0</td>\n",
       "      <td>9.751184e+05</td>\n",
       "    </tr>\n",
       "    <tr>\n",
       "      <th>1</th>\n",
       "      <td>2021-06-25T19:05:00+00:00</td>\n",
       "      <td>1.624648e+12</td>\n",
       "      <td>32039.0</td>\n",
       "      <td>32072.0</td>\n",
       "      <td>31744.0</td>\n",
       "      <td>31799.0</td>\n",
       "      <td>2.606258e+06</td>\n",
       "    </tr>\n",
       "    <tr>\n",
       "      <th>2</th>\n",
       "      <td>2021-06-25T19:10:00+00:00</td>\n",
       "      <td>1.624648e+12</td>\n",
       "      <td>31799.0</td>\n",
       "      <td>32163.0</td>\n",
       "      <td>31799.0</td>\n",
       "      <td>32105.0</td>\n",
       "      <td>1.793975e+06</td>\n",
       "    </tr>\n",
       "    <tr>\n",
       "      <th>3</th>\n",
       "      <td>2021-06-25T19:15:00+00:00</td>\n",
       "      <td>1.624648e+12</td>\n",
       "      <td>32105.0</td>\n",
       "      <td>32407.0</td>\n",
       "      <td>32105.0</td>\n",
       "      <td>32378.0</td>\n",
       "      <td>4.321523e+06</td>\n",
       "    </tr>\n",
       "    <tr>\n",
       "      <th>4</th>\n",
       "      <td>2021-06-25T19:20:00+00:00</td>\n",
       "      <td>1.624649e+12</td>\n",
       "      <td>32383.0</td>\n",
       "      <td>32470.0</td>\n",
       "      <td>32313.0</td>\n",
       "      <td>32337.0</td>\n",
       "      <td>2.579071e+06</td>\n",
       "    </tr>\n",
       "  </tbody>\n",
       "</table>\n",
       "</div>"
      ],
      "text/plain": [
       "                   startTime          time     open     high      low  \\\n",
       "0  2021-06-25T19:00:00+00:00  1.624648e+12  32080.0  32133.0  32006.0   \n",
       "1  2021-06-25T19:05:00+00:00  1.624648e+12  32039.0  32072.0  31744.0   \n",
       "2  2021-06-25T19:10:00+00:00  1.624648e+12  31799.0  32163.0  31799.0   \n",
       "3  2021-06-25T19:15:00+00:00  1.624648e+12  32105.0  32407.0  32105.0   \n",
       "4  2021-06-25T19:20:00+00:00  1.624649e+12  32383.0  32470.0  32313.0   \n",
       "\n",
       "     close        volume  \n",
       "0  32037.0  9.751184e+05  \n",
       "1  31799.0  2.606258e+06  \n",
       "2  32105.0  1.793975e+06  \n",
       "3  32378.0  4.321523e+06  \n",
       "4  32337.0  2.579071e+06  "
      ]
     },
     "execution_count": 55,
     "metadata": {},
     "output_type": "execute_result"
    }
   ],
   "source": [
    "historicalBTC.head()"
   ]
  },
  {
   "cell_type": "code",
   "execution_count": 56,
   "id": "c58c131a-1d39-4f9a-ad41-38264d493e10",
   "metadata": {},
   "outputs": [
    {
     "data": {
      "text/html": [
       "<div>\n",
       "<style scoped>\n",
       "    .dataframe tbody tr th:only-of-type {\n",
       "        vertical-align: middle;\n",
       "    }\n",
       "\n",
       "    .dataframe tbody tr th {\n",
       "        vertical-align: top;\n",
       "    }\n",
       "\n",
       "    .dataframe thead th {\n",
       "        text-align: right;\n",
       "    }\n",
       "</style>\n",
       "<table border=\"1\" class=\"dataframe\">\n",
       "  <thead>\n",
       "    <tr style=\"text-align: right;\">\n",
       "      <th></th>\n",
       "      <th>startTime</th>\n",
       "      <th>time</th>\n",
       "      <th>open</th>\n",
       "      <th>high</th>\n",
       "      <th>low</th>\n",
       "      <th>close</th>\n",
       "      <th>volume</th>\n",
       "    </tr>\n",
       "  </thead>\n",
       "  <tbody>\n",
       "    <tr>\n",
       "      <th>0</th>\n",
       "      <td>2021-06-25T19:00:00+00:00</td>\n",
       "      <td>1.624648e+12</td>\n",
       "      <td>1838.6</td>\n",
       "      <td>1844.9</td>\n",
       "      <td>1834.0</td>\n",
       "      <td>1836.1</td>\n",
       "      <td>5.761444e+05</td>\n",
       "    </tr>\n",
       "    <tr>\n",
       "      <th>1</th>\n",
       "      <td>2021-06-25T19:05:00+00:00</td>\n",
       "      <td>1.624648e+12</td>\n",
       "      <td>1836.1</td>\n",
       "      <td>1837.2</td>\n",
       "      <td>1826.6</td>\n",
       "      <td>1827.6</td>\n",
       "      <td>9.442661e+05</td>\n",
       "    </tr>\n",
       "    <tr>\n",
       "      <th>2</th>\n",
       "      <td>2021-06-25T19:10:00+00:00</td>\n",
       "      <td>1.624648e+12</td>\n",
       "      <td>1827.6</td>\n",
       "      <td>1847.1</td>\n",
       "      <td>1827.6</td>\n",
       "      <td>1843.7</td>\n",
       "      <td>7.120486e+05</td>\n",
       "    </tr>\n",
       "    <tr>\n",
       "      <th>3</th>\n",
       "      <td>2021-06-25T19:15:00+00:00</td>\n",
       "      <td>1.624648e+12</td>\n",
       "      <td>1843.7</td>\n",
       "      <td>1855.8</td>\n",
       "      <td>1843.2</td>\n",
       "      <td>1855.2</td>\n",
       "      <td>1.461957e+06</td>\n",
       "    </tr>\n",
       "    <tr>\n",
       "      <th>4</th>\n",
       "      <td>2021-06-25T19:20:00+00:00</td>\n",
       "      <td>1.624649e+12</td>\n",
       "      <td>1855.2</td>\n",
       "      <td>1870.0</td>\n",
       "      <td>1855.1</td>\n",
       "      <td>1861.1</td>\n",
       "      <td>4.190453e+06</td>\n",
       "    </tr>\n",
       "  </tbody>\n",
       "</table>\n",
       "</div>"
      ],
      "text/plain": [
       "                   startTime          time    open    high     low   close  \\\n",
       "0  2021-06-25T19:00:00+00:00  1.624648e+12  1838.6  1844.9  1834.0  1836.1   \n",
       "1  2021-06-25T19:05:00+00:00  1.624648e+12  1836.1  1837.2  1826.6  1827.6   \n",
       "2  2021-06-25T19:10:00+00:00  1.624648e+12  1827.6  1847.1  1827.6  1843.7   \n",
       "3  2021-06-25T19:15:00+00:00  1.624648e+12  1843.7  1855.8  1843.2  1855.2   \n",
       "4  2021-06-25T19:20:00+00:00  1.624649e+12  1855.2  1870.0  1855.1  1861.1   \n",
       "\n",
       "         volume  \n",
       "0  5.761444e+05  \n",
       "1  9.442661e+05  \n",
       "2  7.120486e+05  \n",
       "3  1.461957e+06  \n",
       "4  4.190453e+06  "
      ]
     },
     "execution_count": 56,
     "metadata": {},
     "output_type": "execute_result"
    }
   ],
   "source": [
    "historicalETH.head()"
   ]
  },
  {
   "cell_type": "code",
   "execution_count": 57,
   "id": "4cfb6332-b0b1-42f8-9f70-14bdb9dbca25",
   "metadata": {},
   "outputs": [],
   "source": [
    "historicalBTC['Return']=historicalBTC['close']-historicalBTC['open']"
   ]
  },
  {
   "cell_type": "code",
   "execution_count": 58,
   "id": "a396a6f1-2104-4f00-8a79-15b555f56ca0",
   "metadata": {},
   "outputs": [],
   "source": [
    "historicalETH['Return']=historicalETH['close']-historicalETH['open']"
   ]
  },
  {
   "cell_type": "markdown",
   "id": "d2a2f206-1cd7-4c07-aa2e-02b9ffb94bb2",
   "metadata": {},
   "source": [
    "Add in columns to BTC and ETH data calculating the return for every 5 minutes as the difference between the opening and closing values "
   ]
  },
  {
   "cell_type": "code",
   "execution_count": 59,
   "id": "62cfe720-016d-4c7c-9127-38bd27073c69",
   "metadata": {},
   "outputs": [],
   "source": [
    "averageBTC = historicalBTC['Return'].mean()"
   ]
  },
  {
   "cell_type": "code",
   "execution_count": 60,
   "id": "62c39f29-d5c0-4489-8a48-5d4371e41013",
   "metadata": {},
   "outputs": [],
   "source": [
    "averageETH = historicalETH['Return'].mean()"
   ]
  },
  {
   "cell_type": "markdown",
   "id": "40a4de02-d846-4dfb-8e74-03f5aa7f86a4",
   "metadata": {},
   "source": [
    "Calculate the average of the returns for BTC and ETH "
   ]
  },
  {
   "cell_type": "code",
   "execution_count": 61,
   "id": "e921c5f5-12c7-4220-8735-6d105c949590",
   "metadata": {},
   "outputs": [],
   "source": [
    "historicalBTC['Port_vs_Bench']= historicalBTC['Return']-averageETH"
   ]
  },
  {
   "cell_type": "markdown",
   "id": "fead6096-6558-4e9b-b259-43e42439524d",
   "metadata": {},
   "source": [
    "Add a column of the difference between the BTC values and the average of the ETH (the benchmark value) "
   ]
  },
  {
   "cell_type": "code",
   "execution_count": 62,
   "id": "43c6649f-7d58-4c3b-b3e7-0b698d4f13c0",
   "metadata": {},
   "outputs": [],
   "source": [
    "trackingerror = historicalBTC['Port_vs_Bench'].std()"
   ]
  },
  {
   "cell_type": "markdown",
   "id": "267f0b5b-de6a-44cd-9ca9-ac39606f5040",
   "metadata": {},
   "source": [
    "Calculate the std devatiation of these differences "
   ]
  },
  {
   "cell_type": "code",
   "execution_count": 63,
   "id": "bbc9aade-e10c-4e42-b0c7-b7ded694c9e5",
   "metadata": {},
   "outputs": [],
   "source": [
    "information_ratio = (averageBTC - averageETH)/trackingerror"
   ]
  },
  {
   "cell_type": "markdown",
   "id": "7b9d3b5c-5ca6-4d70-ad5f-b72d694e9a56",
   "metadata": {},
   "source": [
    "Calculate the information ratio as the difference between the mean of ETH and BTC divided by the trakcing error calculated above "
   ]
  },
  {
   "cell_type": "code",
   "execution_count": 64,
   "id": "d57f7ce0-c00c-40b5-a5f9-c66a1f6e3e7c",
   "metadata": {},
   "outputs": [
    {
     "name": "stdout",
     "output_type": "stream",
     "text": [
      "0.017263604667459295\n"
     ]
    }
   ],
   "source": [
    "print(information_ratio)"
   ]
  },
  {
   "cell_type": "code",
   "execution_count": null,
   "id": "e8dbc723-3278-4582-afdf-307b6fb27901",
   "metadata": {},
   "outputs": [],
   "source": []
  },
  {
   "cell_type": "code",
   "execution_count": null,
   "id": "90626265-70d7-4767-b34f-b47a28897cae",
   "metadata": {},
   "outputs": [],
   "source": []
  },
  {
   "cell_type": "code",
   "execution_count": null,
   "id": "8ee21bde-71a5-473f-9386-fd4be0d6a104",
   "metadata": {},
   "outputs": [],
   "source": []
  },
  {
   "cell_type": "code",
   "execution_count": null,
   "id": "a145b5b4-cc4b-4168-8e04-0a7266327bec",
   "metadata": {},
   "outputs": [],
   "source": []
  }
 ],
 "metadata": {
  "kernelspec": {
   "display_name": "Python 3",
   "language": "python",
   "name": "python3"
  },
  "language_info": {
   "codemirror_mode": {
    "name": "ipython",
    "version": 3
   },
   "file_extension": ".py",
   "mimetype": "text/x-python",
   "name": "python",
   "nbconvert_exporter": "python",
   "pygments_lexer": "ipython3",
   "version": "3.8.8"
  }
 },
 "nbformat": 4,
 "nbformat_minor": 5
}
